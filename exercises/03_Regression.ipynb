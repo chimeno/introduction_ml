{
 "metadata": {
  "language_info": {
   "codemirror_mode": {
    "name": "ipython",
    "version": 3
   },
   "file_extension": ".py",
   "mimetype": "text/x-python",
   "name": "python",
   "nbconvert_exporter": "python",
   "pygments_lexer": "ipython3",
   "version": 3
  },
  "orig_nbformat": 2
 },
 "nbformat": 4,
 "nbformat_minor": 2,
 "cells": [
  {
   "cell_type": "code",
   "execution_count": null,
   "metadata": {},
   "outputs": [],
   "source": [
    "# 1. Calcula con el dataset de Boston el error(absoluto) para cada predicción - pista(Ejercicio 1)    \n",
    "# 2. Calcula el error absoluto máximo,mínimo y el medio\n",
    "# 2.1 Calcula el score\n",
    "# 3. Dibuja un gráfico de dispersión con el valor real en el eje X y \n",
    "#    la predicción en el Y (pista: kind='scader', x=‘COL_X', y=‘COL_Y’)\n",
    "# 4. Dibuja un gráfico de dispersión ERR vs CRIM\n",
    "# 5. Repite el ejercicio con una regresión de Lasso."
   ]
  }
 ]
}