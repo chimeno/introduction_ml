{
 "metadata": {
  "language_info": {
   "codemirror_mode": {
    "name": "ipython",
    "version": 3
   },
   "file_extension": ".py",
   "mimetype": "text/x-python",
   "name": "python",
   "nbconvert_exporter": "python",
   "pygments_lexer": "ipython3",
   "version": 3
  },
  "orig_nbformat": 2
 },
 "nbformat": 4,
 "nbformat_minor": 2,
 "cells": [
  {
   "cell_type": "code",
   "execution_count": null,
   "metadata": {},
   "outputs": [],
   "source": [
    "# Ejercicio clasificación\n",
    "# 1. Carga el dataset de iris\n",
    "# 2. Crea un DataFrame con los datos del iris, añadiéndole el \"target\" (0,1,2)\n",
    "#   y el \"classname\" (setosa, versicolor, virginica)\n",
    "# 3. Visualiza el dataset para entenderlo y detectar posibles anomalías simples \n",
    "# 4. Crea un conjunto de entrenamiento (X_train, y_test) a partir del dataset completo.\n",
    "\n",
    "# 2ª parte\n",
    "# Entrena el árbol con el conjunto train\n",
    "# Utiliza el método predict() para calcular las prediciones sobre el conjunto de test\n",
    "# Calcula el error de clasificacion:   errores/total\n",
    "# Crea una matriz de confusión: clase_real, clase_predictor, numero_casos\n",
    "# Repite el ejercicio con otro clasificador de Sklearn, ¿cuál da mejor resultado? http://scikit-learn.org/stable/auto_examples/classification/plot_classifier_comparison.html\n",
    "# Empaqueta la parte de entrenamiento, scoring y calculo del performance como una función\n",
    "\n"
   ]
  },
  {
   "cell_type": "code",
   "execution_count": null,
   "metadata": {},
   "outputs": [],
   "source": []
  }
 ]
}